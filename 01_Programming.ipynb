{
  "nbformat": 4,
  "nbformat_minor": 0,
  "metadata": {
    "colab": {
      "provenance": [],
      "authorship_tag": "ABX9TyMhgbgw3hnKX5fk1yGW85wH",
      "include_colab_link": true
    },
    "kernelspec": {
      "name": "python3",
      "display_name": "Python 3"
    },
    "language_info": {
      "name": "python"
    }
  },
  "cells": [
    {
      "cell_type": "markdown",
      "metadata": {
        "id": "view-in-github",
        "colab_type": "text"
      },
      "source": [
        "<a href=\"https://colab.research.google.com/github/Fathima92/Batch23_Programming/blob/main/01_Programming.ipynb\" target=\"_parent\"><img src=\"https://colab.research.google.com/assets/colab-badge.svg\" alt=\"Open In Colab\"/></a>"
      ]
    },
    {
      "cell_type": "code",
      "source": [
        "sum = None\n",
        "print(sum)\n",
        "a = 10\n",
        "b = 20\n",
        "sum = a + b\n",
        "print(sum)"
      ],
      "metadata": {
        "colab": {
          "base_uri": "https://localhost:8080/"
        },
        "id": "4A-MWklrZIdG",
        "outputId": "5f211e77-4141-44fb-8051-97640aa618e4"
      },
      "execution_count": 2,
      "outputs": [
        {
          "output_type": "stream",
          "name": "stdout",
          "text": [
            "None\n",
            "30\n"
          ]
        }
      ]
    },
    {
      "cell_type": "code",
      "source": [
        "a = b= c = 1\n",
        "print(a,b,c)"
      ],
      "metadata": {
        "colab": {
          "base_uri": "https://localhost:8080/"
        },
        "id": "xmhC_iMJZuGN",
        "outputId": "bce3b05b-895a-4ed2-a665-2dd6892dda90"
      },
      "execution_count": 3,
      "outputs": [
        {
          "output_type": "stream",
          "name": "stdout",
          "text": [
            "1 1 1\n"
          ]
        }
      ]
    },
    {
      "cell_type": "code",
      "source": [
        "a,b = 1,2\n",
        "print(a,b)   # 1 2\n",
        "\n",
        "a,b = b,a\n",
        "print(a,b)  # 2 1"
      ],
      "metadata": {
        "id": "hth0XvI8Z4NM"
      },
      "execution_count": null,
      "outputs": []
    },
    {
      "cell_type": "code",
      "source": [
        "print(\"Hello, World!\") # Hello, World!\n",
        "name = \"Alice\"\n",
        "age = 25\n",
        "print(\"Name:\", name) # Name: Alice\n",
        "print(\"Age:\", age)\n",
        "\n",
        "name = \"Bob\"\n",
        "score = 92\n",
        "print(f\"{name} scored {score} in the exam.\") # f-string\n",
        "# Bob scored 92 in the exam.\n",
        "\n",
        "language = \"Python\"\n",
        "version = 3.9\n",
        "print(\"I am learning {} version {}\".format(language, version))\n",
        "print(\"I am learning {1} version {0}\".format(language, version)) # positional formatting\n",
        "\n",
        "a = 10\n",
        "b = 20\n",
        "print(\"The values of a and b are\", a, \"and\", b)\n",
        "\n",
        "print(\"apple\", \"banana\", \"cherry\", sep=\", \")\n",
        "\n",
        "print(\"This is line 1\", end=\" \")\n",
        "print(\"and this is line 2\")\n",
        "\n",
        "print(\"Hello\\nWorld\")  # New line\n",
        "print(\"Hello\\tWorld\")  # Tab\n",
        "print(\"Backslash: \\\\\")  # Prints a backslash\n",
        "\n",
        "fruits = [\"apple\", \"banana\", \"cherry\"]\n",
        "print(fruits)\n",
        "\n",
        "print(\"This is line 1\", end=\"\")\n",
        "print(\"This is line 2\")\n"
      ],
      "metadata": {
        "id": "zU6OuIcmdPE1"
      },
      "execution_count": null,
      "outputs": []
    },
    {
      "cell_type": "code",
      "source": [
        "name = \"Bob\"\n",
        "score = 92\n",
        "print(f\"{0} scored {1} in the exam.\",name,score)"
      ],
      "metadata": {
        "colab": {
          "base_uri": "https://localhost:8080/"
        },
        "id": "zv_A8pxHe1kd",
        "outputId": "787b9b17-80fc-4e6a-c7c3-072a48aa4174"
      },
      "execution_count": null,
      "outputs": [
        {
          "output_type": "stream",
          "name": "stdout",
          "text": [
            "0 scored 1 in the exam. Bob 92\n"
          ]
        }
      ]
    },
    {
      "cell_type": "code",
      "source": [
        "name = input(\"Enter your name: \")\n",
        "print(\"Hello, \" + name + \"!\")\n"
      ],
      "metadata": {
        "colab": {
          "base_uri": "https://localhost:8080/"
        },
        "id": "QmD-DDCBgDnY",
        "outputId": "2a2fb82a-7543-4c33-b0c2-a75449b52705"
      },
      "execution_count": null,
      "outputs": [
        {
          "output_type": "stream",
          "name": "stdout",
          "text": [
            "Enter your name: sajee\n",
            "Hello, sajee!\n"
          ]
        }
      ]
    },
    {
      "cell_type": "code",
      "source": [
        "age = int(input(\"Enter your age: \"))\n",
        "print(f\"You are {age} years old.\")\n",
        "\n",
        "height = float(input(\"Enter your height in meters: \"))\n",
        "print(f\"Your height is {height} meters.\")\n",
        "\n",
        "x, y = input(\"Enter two numbers separated by space: \").split()\n",
        "print(f\"First number: {x}, Second number: {y}\")\n",
        "\n",
        "a, b = map(int, input(\"Enter two integers: \").split())\n",
        "print(f\"Sum of {a} and {b} is {a + b}\")\n",
        "\n",
        "city = input(\"Which city do you live in? \")\n",
        "print(f\"Nice! {city} sounds like a great place.\")\n",
        "\n",
        "name = input(\"Enter your name (or press enter to use 'Guest'): \") or \"Guest\"\n",
        "print(f\"Hello, {name}!\")\n"
      ],
      "metadata": {
        "colab": {
          "base_uri": "https://localhost:8080/"
        },
        "id": "7aqIt1YVgK9N",
        "outputId": "f117f952-9252-4a17-db8e-954b0e390e53"
      },
      "execution_count": null,
      "outputs": [
        {
          "output_type": "stream",
          "name": "stdout",
          "text": [
            "Enter your age: 18\n",
            "You are 18 years old.\n",
            "Enter your height in meters: 56\n",
            "Your height is 56.0 meters.\n"
          ]
        }
      ]
    },
    {
      "cell_type": "code",
      "source": [],
      "metadata": {
        "id": "jGG_ijl263VR"
      },
      "execution_count": null,
      "outputs": []
    },
    {
      "cell_type": "code",
      "execution_count": null,
      "metadata": {
        "colab": {
          "base_uri": "https://localhost:8080/"
        },
        "id": "doDmjCTmZkfL",
        "outputId": "52a2e753-83ba-4562-f28f-a7d63ac1bb14"
      },
      "outputs": [
        {
          "output_type": "stream",
          "name": "stdout",
          "text": [
            "1.0\n",
            "0.0\n",
            "5.0\n",
            "6.0\n"
          ]
        }
      ],
      "source": [
        "import numpy as np\n",
        "np_array = np.zeros((2,3))\n",
        "np_array[0][0] = 1\n",
        "np_array[1][2] = 5\n",
        "\n",
        "print(np.mean(np_array))\n",
        "print(np.min(np_array))\n",
        "print(np.max(np_array))\n",
        "print(np.sum(np_array))"
      ]
    },
    {
      "cell_type": "code",
      "source": [],
      "metadata": {
        "id": "82kVa4FydNFD"
      },
      "execution_count": null,
      "outputs": []
    },
    {
      "cell_type": "code",
      "source": [
        "# Generate numbers from 0 to 4\n",
        "for i in range(5):\n",
        "    print(i)\n",
        "# Generate numbers from 2 to 5\n",
        "for i in range(2, 6):\n",
        "    print(i)\n",
        "# Generate numbers from 0 to 9 with a step of 2\n",
        "for i in range(0, 10, 2):\n",
        "    print(i)\n",
        "# Generate numbers from 5 to 1 with a step of -1\n",
        "for i in range(5, 0, -1):\n",
        "    print(i)\n",
        "\n",
        "numbers = list(range(3))  # [0, 1, 2]\n",
        "print(numbers)"
      ],
      "metadata": {
        "colab": {
          "base_uri": "https://localhost:8080/"
        },
        "id": "A8eDebEvbotk",
        "outputId": "aab4f28c-3112-47a7-9e12-99782d7ade05"
      },
      "execution_count": null,
      "outputs": [
        {
          "output_type": "stream",
          "name": "stdout",
          "text": [
            "0\n",
            "1\n",
            "2\n",
            "3\n",
            "4\n",
            "2\n",
            "3\n",
            "4\n",
            "5\n",
            "0\n",
            "2\n",
            "4\n",
            "6\n",
            "8\n",
            "5\n",
            "4\n",
            "3\n",
            "2\n",
            "1\n",
            "[0, 1, 2]\n"
          ]
        }
      ]
    },
    {
      "cell_type": "code",
      "source": [
        "\n",
        "student_grades = {\n",
        "    \"Alice\": 90,\n",
        "    \"Bob\": 85,\n",
        "    \"Charlie\": 92\n",
        "}\n",
        "\n",
        "\n",
        "print(student_grades[\"Alice\"])\n",
        "print(student_grades[\"Bob\"])\n",
        "\n",
        "student_grades[\"David\"] = 88\n",
        "student_grades[\"Alice\"] = 95\n",
        "\n",
        "del student_grades[\"Bob\"]\n",
        "print(student_grades)\n",
        "\n",
        "\n",
        "for student in student_grades:\n",
        "    print(student)\n",
        "\n",
        "for grade in student_grades.values():\n",
        "    print(grade)\n",
        "\n",
        "for student, grade in student_grades.items():\n",
        "    print(f\"{student}: {grade}\")\n"
      ],
      "metadata": {
        "colab": {
          "base_uri": "https://localhost:8080/"
        },
        "id": "qG9XDbcacxoO",
        "outputId": "96be9f65-0596-4137-a02c-e1b952f30557"
      },
      "execution_count": null,
      "outputs": [
        {
          "output_type": "stream",
          "name": "stdout",
          "text": [
            "90\n",
            "85\n",
            "{'Alice': 95, 'Charlie': 92, 'David': 88}\n",
            "Alice\n",
            "Charlie\n",
            "David\n",
            "95\n",
            "92\n",
            "88\n",
            "Alice: 95\n",
            "Charlie: 92\n",
            "David: 88\n"
          ]
        }
      ]
    },
    {
      "cell_type": "code",
      "source": [
        "x = 10\n",
        "if x > 5:\n",
        "    print(\"x is greater than 5\")\n",
        "\n",
        "x = 3\n",
        "if x > 5:\n",
        "    print(\"x is greater than 5\")\n",
        "else:\n",
        "    print(\"x is less than or equal to 5\")\n",
        "\n",
        "x = 7\n",
        "if x > 10:\n",
        "    print(\"x is greater than 10\")\n",
        "elif x == 7:\n",
        "    print(\"x is equal to 7\")\n",
        "else:\n",
        "    print(\"x is less than 10 and not equal to 7\")\n",
        "\n",
        "x = 12\n",
        "if x > 10:\n",
        "    if x % 2 == 0:\n",
        "        print(\"x is greater than 10 and even\")\n",
        "    else:\n",
        "        print(\"x is greater than 10 and odd\")\n",
        "else:\n",
        "    print(\"x is less than or equal to 10\")\n",
        "\n",
        "x = 20\n",
        "result = \"Even\" if x % 2 == 0 else \"Odd\"\n",
        "print(result)\n",
        "\n",
        "\n",
        "age = 25\n",
        "if age >= 18 and age <= 65:\n",
        "    print(\"You are an adult.\")\n",
        "else:\n",
        "    print(\"You are either too young or too old.\")\n",
        "\n",
        "x = -5\n",
        "if x < 0 or x > 100:\n",
        "    print(\"x is out of range\")\n",
        "else:\n",
        "    print(\"x is within range\")\n",
        "\n",
        "\n",
        "fruits = [\"apple\", \"banana\", \"cherry\"]\n",
        "if \"apple\" in fruits:\n",
        "    print(\"Apple is in the list\")\n",
        "\n",
        "name = \"Alice\"\n",
        "if \"A\" in name:\n",
        "    print(\"The name contains the letter 'A'\")\n",
        "\n",
        "is_sunny = True\n",
        "if is_sunny:\n",
        "    print(\"It's a sunny day!\")\n",
        "else:\n",
        "    print(\"It's not sunny today.\")\n",
        "\n",
        "\n",
        "age = 30\n",
        "valid_ages = [18, 25, 30, 35]\n",
        "\n",
        "if age in valid_ages and age >= 18:\n",
        "    print(\"Age is valid and adult\")\n",
        "else:\n",
        "    print(\"Age is either not valid or under 18\")\n",
        "\n",
        "\n",
        "x = 10\n",
        "if x > 5:\n",
        "    pass  # This block does nothing\n",
        "else:\n",
        "    print(\"x is less than or equal to 5\")\n",
        "\n",
        "\n",
        "coordinates = (10, 20)\n",
        "\n",
        "if (x, y := coordinates) == (10, 20):\n",
        "    print(f\"x is {x}, y is {y}\")\n",
        "\n"
      ],
      "metadata": {
        "id": "dvMpKvvC64oL"
      },
      "execution_count": null,
      "outputs": []
    },
    {
      "cell_type": "code",
      "source": [
        "import tkinter as tk\n",
        "from tkinter import messagebox\n",
        "\n",
        "def submit_form():\n",
        "    name = name_entry.get()\n",
        "    email = email_entry.get()\n",
        "    age = age_entry.get()\n",
        "\n",
        "    if not name or not email or not age:\n",
        "        messagebox.showwarning(\"Input Error\", \"Please fill in all fields\")\n",
        "        return\n",
        "\n",
        "    # Process the data (e.g., save to a database, file, etc.)\n",
        "    # For now, we'll just display a confirmation message\n",
        "    messagebox.showinfo(\"Form Submitted\", f\"Name: {name}\\nEmail: {email}\\nAge: {age}\")\n",
        "\n",
        "# Create the main window\n",
        "root = tk.Tk()\n",
        "root.title(\"User Information Form\")\n",
        "\n",
        "# Create and place the labels and entry widgets\n",
        "tk.Label(root, text=\"Name:\").grid(row=0, column=0, padx=10, pady=10, sticky=\"e\")\n",
        "name_entry = tk.Entry(root)\n",
        "name_entry.grid(row=0, column=1, padx=10, pady=10)\n",
        "\n",
        "tk.Label(root, text=\"Email:\").grid(row=1, column=0, padx=10, pady=10, sticky=\"e\")\n",
        "email_entry = tk.Entry(root)\n",
        "email_entry.grid(row=1, column=1, padx=10, pady=10)\n",
        "\n",
        "tk.Label(root, text=\"Age:\").grid(row=2, column=0, padx=10, pady=10, sticky=\"e\")\n",
        "age_entry = tk.Entry(root)\n",
        "age_entry.grid(row=2, column=1, padx=10, pady=10)\n",
        "\n",
        "# Create and place the submit button\n",
        "submit_button = tk.Button(root, text=\"Submit\", command=submit_form)\n",
        "submit_button.grid(row=3, column=0, columnspan=2, pady=10)\n",
        "\n",
        "# Run the application\n",
        "root.mainloop()\n"
      ],
      "metadata": {
        "colab": {
          "base_uri": "https://localhost:8080/",
          "height": 332
        },
        "id": "P5OXw3Sq8JNK",
        "outputId": "15b36609-7bc1-4934-e801-1db1891bdc9c"
      },
      "execution_count": null,
      "outputs": [
        {
          "output_type": "error",
          "ename": "TclError",
          "evalue": "no display name and no $DISPLAY environment variable",
          "traceback": [
            "\u001b[0;31m---------------------------------------------------------------------------\u001b[0m",
            "\u001b[0;31mTclError\u001b[0m                                  Traceback (most recent call last)",
            "\u001b[0;32m<ipython-input-1-d9d4734e0dd1>\u001b[0m in \u001b[0;36m<cell line: 18>\u001b[0;34m()\u001b[0m\n\u001b[1;32m     16\u001b[0m \u001b[0;34m\u001b[0m\u001b[0m\n\u001b[1;32m     17\u001b[0m \u001b[0;31m# Create the main window\u001b[0m\u001b[0;34m\u001b[0m\u001b[0;34m\u001b[0m\u001b[0m\n\u001b[0;32m---> 18\u001b[0;31m \u001b[0mroot\u001b[0m \u001b[0;34m=\u001b[0m \u001b[0mtk\u001b[0m\u001b[0;34m.\u001b[0m\u001b[0mTk\u001b[0m\u001b[0;34m(\u001b[0m\u001b[0;34m)\u001b[0m\u001b[0;34m\u001b[0m\u001b[0;34m\u001b[0m\u001b[0m\n\u001b[0m\u001b[1;32m     19\u001b[0m \u001b[0mroot\u001b[0m\u001b[0;34m.\u001b[0m\u001b[0mtitle\u001b[0m\u001b[0;34m(\u001b[0m\u001b[0;34m\"User Information Form\"\u001b[0m\u001b[0;34m)\u001b[0m\u001b[0;34m\u001b[0m\u001b[0;34m\u001b[0m\u001b[0m\n\u001b[1;32m     20\u001b[0m \u001b[0;34m\u001b[0m\u001b[0m\n",
            "\u001b[0;32m/usr/lib/python3.10/tkinter/__init__.py\u001b[0m in \u001b[0;36m__init__\u001b[0;34m(self, screenName, baseName, className, useTk, sync, use)\u001b[0m\n\u001b[1;32m   2297\u001b[0m                 \u001b[0mbaseName\u001b[0m \u001b[0;34m=\u001b[0m \u001b[0mbaseName\u001b[0m \u001b[0;34m+\u001b[0m \u001b[0mext\u001b[0m\u001b[0;34m\u001b[0m\u001b[0;34m\u001b[0m\u001b[0m\n\u001b[1;32m   2298\u001b[0m         \u001b[0minteractive\u001b[0m \u001b[0;34m=\u001b[0m \u001b[0;32mFalse\u001b[0m\u001b[0;34m\u001b[0m\u001b[0;34m\u001b[0m\u001b[0m\n\u001b[0;32m-> 2299\u001b[0;31m         \u001b[0mself\u001b[0m\u001b[0;34m.\u001b[0m\u001b[0mtk\u001b[0m \u001b[0;34m=\u001b[0m \u001b[0m_tkinter\u001b[0m\u001b[0;34m.\u001b[0m\u001b[0mcreate\u001b[0m\u001b[0;34m(\u001b[0m\u001b[0mscreenName\u001b[0m\u001b[0;34m,\u001b[0m \u001b[0mbaseName\u001b[0m\u001b[0;34m,\u001b[0m \u001b[0mclassName\u001b[0m\u001b[0;34m,\u001b[0m \u001b[0minteractive\u001b[0m\u001b[0;34m,\u001b[0m \u001b[0mwantobjects\u001b[0m\u001b[0;34m,\u001b[0m \u001b[0museTk\u001b[0m\u001b[0;34m,\u001b[0m \u001b[0msync\u001b[0m\u001b[0;34m,\u001b[0m \u001b[0muse\u001b[0m\u001b[0;34m)\u001b[0m\u001b[0;34m\u001b[0m\u001b[0;34m\u001b[0m\u001b[0m\n\u001b[0m\u001b[1;32m   2300\u001b[0m         \u001b[0;32mif\u001b[0m \u001b[0museTk\u001b[0m\u001b[0;34m:\u001b[0m\u001b[0;34m\u001b[0m\u001b[0;34m\u001b[0m\u001b[0m\n\u001b[1;32m   2301\u001b[0m             \u001b[0mself\u001b[0m\u001b[0;34m.\u001b[0m\u001b[0m_loadtk\u001b[0m\u001b[0;34m(\u001b[0m\u001b[0;34m)\u001b[0m\u001b[0;34m\u001b[0m\u001b[0;34m\u001b[0m\u001b[0m\n",
            "\u001b[0;31mTclError\u001b[0m: no display name and no $DISPLAY environment variable"
          ]
        }
      ]
    },
    {
      "cell_type": "code",
      "source": [
        "\n",
        "year = 2024\n",
        "leap_year = (year % 4 == 0 and (year % 100 != 0 or year % 400 == 0))\n",
        "print(f\"Year {year} is a leap year: {leap_year}\")\n"
      ],
      "metadata": {
        "id": "nzqsiGDd9NT0"
      },
      "execution_count": null,
      "outputs": []
    },
    {
      "cell_type": "code",
      "source": [
        "\n",
        "char = input(\"Enter a character: \")\n",
        "\n",
        "\n",
        "if len(char) != 1:\n",
        "    print(\"Please enter only one character.\")\n",
        "else:\n",
        "    # Get the ASCII value of the character\n",
        "    ascii_value = ord(char)\n",
        "\n",
        "    if (65 <= ascii_value <= 90) or (97 <= ascii_value <= 122):\n",
        "        print(f\"The character '{char}' is an alphabet.\")\n",
        "    else:\n",
        "        print(f\"The character '{char}' is not an alphabet.\")\n"
      ],
      "metadata": {
        "id": "Lupx-j6Z9oCS"
      },
      "execution_count": null,
      "outputs": []
    }
  ]
}